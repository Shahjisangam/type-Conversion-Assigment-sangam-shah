{
 "cells": [
  {
   "cell_type": "code",
   "execution_count": 1,
   "id": "f30254b0-4af3-4bd5-aebe-3e562d2b992e",
   "metadata": {},
   "outputs": [],
   "source": [
    "# Ques No. -01 Covert a iteger to a floatig-poit umber.\n"
   ]
  },
  {
   "cell_type": "code",
   "execution_count": 2,
   "id": "05226349-868c-4a7a-a764-5aa39a0c659f",
   "metadata": {},
   "outputs": [
    {
     "name": "stdout",
     "output_type": "stream",
     "text": [
      "5.0\n"
     ]
    }
   ],
   "source": [
    "integer_number = 5\n",
    "floating_point_number = float(integer_number)\n",
    "print(floating_point_number)\n"
   ]
  },
  {
   "cell_type": "code",
   "execution_count": 3,
   "id": "40ca5e42-0665-4755-8672-3ae15f076bf5",
   "metadata": {
    "collapsed": true,
    "jupyter": {
     "outputs_hidden": true
    },
    "tags": []
   },
   "outputs": [
    {
     "ename": "SyntaxError",
     "evalue": "invalid syntax (2634101764.py, line 1)",
     "output_type": "error",
     "traceback": [
      "\u001b[0;36m  Cell \u001b[0;32mIn[3], line 1\u001b[0;36m\u001b[0m\n\u001b[0;31m    In this example, integer_number is converted to a floating-point number using the float() function, and the result is stored in floating_point_number. The output would be 5.0.\u001b[0m\n\u001b[0m       ^\u001b[0m\n\u001b[0;31mSyntaxError\u001b[0m\u001b[0;31m:\u001b[0m invalid syntax\n"
     ]
    }
   ],
   "source": [
    "#In this example, integer_number is converted to a floating-point number using the float() function, and the result is stored in floating_point_number. The output would be 5.0."
   ]
  },
  {
   "cell_type": "code",
   "execution_count": 4,
   "id": "5819ee58-a396-4bf6-8513-6e21b075d725",
   "metadata": {},
   "outputs": [],
   "source": [
    "# QuesNo. - 02 Covert a float to a iteger."
   ]
  },
  {
   "cell_type": "code",
   "execution_count": 5,
   "id": "8aa548fc-957b-4c2a-ac33-612fe71d81de",
   "metadata": {},
   "outputs": [
    {
     "name": "stdout",
     "output_type": "stream",
     "text": [
      "3\n"
     ]
    }
   ],
   "source": [
    "float_number = 3.5\n",
    "integer_number = int(float_number)\n",
    "print(integer_number)\n"
   ]
  },
  {
   "cell_type": "code",
   "execution_count": null,
   "id": "3ad9aa00-802e-4948-bcef-83d3746321fc",
   "metadata": {},
   "outputs": [],
   "source": [
    "# In this example, float_number is converted to an integer using the int() function, and the result is stored in integer_number. The output would be 3. Note that when converting a float to an integer, the decimal part is truncated. So, in this case, 3.5 becomes 3."
   ]
  },
  {
   "cell_type": "code",
   "execution_count": 6,
   "id": "51aa2060-8af4-419a-9374-801645ab9af1",
   "metadata": {},
   "outputs": [],
   "source": [
    "# Ques No. 3 Covert a iteger to a strig."
   ]
  },
  {
   "cell_type": "code",
   "execution_count": 7,
   "id": "c6df1825-c76c-4e5b-8618-a38b703470c4",
   "metadata": {},
   "outputs": [
    {
     "name": "stdout",
     "output_type": "stream",
     "text": [
      "42\n"
     ]
    }
   ],
   "source": [
    "integer_number = 42\n",
    "string_number = str(integer_number)\n",
    "print(string_number)\n"
   ]
  },
  {
   "cell_type": "code",
   "execution_count": 8,
   "id": "db0e3e69-31d3-4995-8859-2e686be4f963",
   "metadata": {},
   "outputs": [],
   "source": [
    "# In this example, integer_number is converted to a string using the str() function, and the result is stored in string_number. The output would be '42'."
   ]
  },
  {
   "cell_type": "code",
   "execution_count": 9,
   "id": "2f641b4c-b232-4efc-864b-5f428407117f",
   "metadata": {},
   "outputs": [],
   "source": [
    "# Ques No. 4 Covert a list to a tuple."
   ]
  },
  {
   "cell_type": "code",
   "execution_count": 10,
   "id": "a84b97ce-01ee-46f2-b273-36994d4da9b9",
   "metadata": {},
   "outputs": [
    {
     "name": "stdout",
     "output_type": "stream",
     "text": [
      "(1, 2, 3, 4, 5)\n"
     ]
    }
   ],
   "source": [
    "my_list = [1, 2, 3, 4, 5]\n",
    "my_tuple = tuple(my_list)\n",
    "print(my_tuple)\n"
   ]
  },
  {
   "cell_type": "code",
   "execution_count": 12,
   "id": "c09ed7b5-f391-431d-9651-f316cb6a5868",
   "metadata": {},
   "outputs": [],
   "source": [
    "# In this example, my_list is converted to a tuple using the tuple() function, and the result is stored in my_tuple. The output would be (1, 2, 3, 4, 5)."
   ]
  },
  {
   "cell_type": "code",
   "execution_count": 13,
   "id": "ad22e974-ba84-4ac4-b3a2-299809e87afa",
   "metadata": {},
   "outputs": [],
   "source": [
    "# Ques no.- 05 I Covert a tuple to a list."
   ]
  },
  {
   "cell_type": "code",
   "execution_count": 14,
   "id": "6f11fa28-1a9f-42a8-a1f5-e1c2dc0d4720",
   "metadata": {},
   "outputs": [
    {
     "name": "stdout",
     "output_type": "stream",
     "text": [
      "[1, 2, 3, 4, 5]\n"
     ]
    }
   ],
   "source": [
    "my_tuple = (1, 2, 3, 4, 5)\n",
    "my_list = list(my_tuple)\n",
    "print(my_list)\n"
   ]
  },
  {
   "cell_type": "code",
   "execution_count": 15,
   "id": "db64c011-ab51-4e9c-ba8b-9a56ba6197a3",
   "metadata": {},
   "outputs": [],
   "source": [
    "# In this example, my_tuple is converted to a list using the list() function, and the result is stored in my_list. The output would be [1, 2, 3, 4, 5]."
   ]
  },
  {
   "cell_type": "code",
   "execution_count": 16,
   "id": "1605c74e-6509-4f9d-86f2-5a265af680b5",
   "metadata": {},
   "outputs": [
    {
     "ename": "SyntaxError",
     "evalue": "invalid syntax (4065607665.py, line 1)",
     "output_type": "error",
     "traceback": [
      "\u001b[0;36m  Cell \u001b[0;32mIn[16], line 1\u001b[0;36m\u001b[0m\n\u001b[0;31m    Covert a decimal number to binary.\u001b[0m\n\u001b[0m           ^\u001b[0m\n\u001b[0;31mSyntaxError\u001b[0m\u001b[0;31m:\u001b[0m invalid syntax\n"
     ]
    }
   ],
   "source": [
    "# QuesNo.- 06 Covert a decimal number to binary."
   ]
  },
  {
   "cell_type": "code",
   "execution_count": 17,
   "id": "6573443f-46aa-4fc3-959a-aae29f3e78c6",
   "metadata": {},
   "outputs": [
    {
     "name": "stdout",
     "output_type": "stream",
     "text": [
      "0b1010\n"
     ]
    }
   ],
   "source": [
    "decimal_number = 10\n",
    "binary_representation = bin(decimal_number)\n",
    "print(binary_representation)\n"
   ]
  },
  {
   "cell_type": "code",
   "execution_count": 18,
   "id": "4f530a48-82c9-4e41-b6bb-fa17adb3c82b",
   "metadata": {},
   "outputs": [],
   "source": [
    "# In this example, decimal_number is converted to its binary representation using the bin() function, and the result is stored in binary_representation. The output would be '0b1010', where '0b' indicates that the following digits represent a binary number."
   ]
  },
  {
   "cell_type": "code",
   "execution_count": 19,
   "id": "06e96bba-1d06-454a-b697-1211a0fc02e2",
   "metadata": {},
   "outputs": [],
   "source": [
    "# QuesNo.- 07 Covert a non-zero number to a boolean."
   ]
  },
  {
   "cell_type": "code",
   "execution_count": 20,
   "id": "a927a484-3b34-4374-a311-417eecc92381",
   "metadata": {},
   "outputs": [
    {
     "name": "stdout",
     "output_type": "stream",
     "text": [
      "True\n"
     ]
    }
   ],
   "source": [
    "non_zero_number = 10\n",
    "boolean_value = bool(non_zero_number)\n",
    "print(boolean_value)\n"
   ]
  },
  {
   "cell_type": "code",
   "execution_count": 21,
   "id": "e1edbd10-fc92-4750-8e43-5156999a9933",
   "metadata": {},
   "outputs": [],
   "source": [
    "# In this example, bool() is used to convert non_zero_number to a boolean value. Any non-zero number will be converted to True, while 0 would be converted to False. So, the output would be True since 10 is non-zero."
   ]
  },
  {
   "cell_type": "code",
   "execution_count": null,
   "id": "e3dce01c-eb11-41c9-9645-d9a4e076ae57",
   "metadata": {},
   "outputs": [],
   "source": []
  }
 ],
 "metadata": {
  "kernelspec": {
   "display_name": "Python 3 (ipykernel)",
   "language": "python",
   "name": "python3"
  },
  "language_info": {
   "codemirror_mode": {
    "name": "ipython",
    "version": 3
   },
   "file_extension": ".py",
   "mimetype": "text/x-python",
   "name": "python",
   "nbconvert_exporter": "python",
   "pygments_lexer": "ipython3",
   "version": "3.10.8"
  }
 },
 "nbformat": 4,
 "nbformat_minor": 5
}
